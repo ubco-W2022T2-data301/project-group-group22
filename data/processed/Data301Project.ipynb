{
 "cells": [
  {
   "cell_type": "code",
   "execution_count": 1,
   "id": "71fecde7-571c-4611-97fb-a0dfbdeb077f",
   "metadata": {},
   "outputs": [
    {
     "name": "stdout",
     "output_type": "stream",
     "text": [
      "      Rk              Name  GP   G   A    P  PIM  +/-    TOI  PPG  GWG  PPP  \\\n",
      "0      1    Connor McDavid  82  41  67  108   26   20  21:32    5    7   20   \n",
      "1      2     Claude Giroux  82  34  68  102   20   28  20:21    9    1   36   \n",
      "2      3   Nikita Kucherov  80  39  61  100   42   15  19:48    8    7   36   \n",
      "3      4     Evgeni Malkin  78  42  56   98   87   16  18:59   14    7   38   \n",
      "4      5  Nathan MacKinnon  74  39  58   97   55   11  19:53   12   12   32   \n",
      "..   ...               ...  ..  ..  ..  ...  ...  ...    ...  ...  ...  ...   \n",
      "245  246       Devin Shore  82  11  21   32   14  -30  15:25    2    1   11   \n",
      "246  247       Ryan Pulock  68  10  22   32   14   -4  18:24    5    0   11   \n",
      "247  248      Noah Hanifin  79  10  22   32   21  -20  18:51    1    3    7   \n",
      "248  249        Ryan Ellis  44   9  23   32    6   26  23:21    2    2    5   \n",
      "249  250   Brandon Montour  80   9  23   32   42   16  20:28    5    5   12   \n",
      "\n",
      "      G/GP   A/GP   P/GP  SHOTS     SH%  HITS  BS  \n",
      "0    0.500  0.817  1.317    274  15.00%    28  46  \n",
      "1    0.415  0.829  1.244    193  17.60%    30  23  \n",
      "2    0.488  0.763  1.250    279  14.00%    31  15  \n",
      "3    0.538  0.718  1.256    239  17.60%    48  32  \n",
      "4    0.527  0.784  1.311    284  13.70%    38  22  \n",
      "..     ...    ...    ...    ...     ...   ...  ..  \n",
      "245  0.134  0.256  0.390    123   8.90%    71  57  \n",
      "246  0.147  0.324  0.471    184   5.40%   113  86  \n",
      "247  0.127  0.278  0.405    165   6.10%    81  69  \n",
      "248  0.205  0.523  0.727    110   8.20%    27  84  \n",
      "249  0.113  0.288  0.400    160   5.60%    96  83  \n",
      "\n",
      "[250 rows x 19 columns]\n"
     ]
    }
   ],
   "source": [
    "import pandas as pd\n",
    "\n",
    "df1 = pd.read_csv('Data301ProjectData2017.csv')\n",
    "print(df1)"
   ]
  },
  {
   "cell_type": "code",
   "execution_count": 2,
   "id": "cf0bb922-672b-4792-bfb3-aa077cb61b8a",
   "metadata": {},
   "outputs": [
    {
     "name": "stdout",
     "output_type": "stream",
     "text": [
      "      Rk             Name  GP   G   A    P  PIM  +/-    TOI  PPG  GWG  PPP  \\\n",
      "0      1  Nikita Kucherov  82  41  87  128   62   24  19:57   15    8   48   \n",
      "1      2   Connor McDavid  78  41  75  116   20    3  22:50    9    9   33   \n",
      "2      3     Patrick Kane  81  44  66  110   22    2  22:29    9    7   30   \n",
      "3      4   Leon Draisaitl  82  50  55  105   52    2  22:35   16    5   29   \n",
      "4      5    Brad Marchand  79  36  64  100   96   15  19:37   10    9   34   \n",
      "..   ...              ...  ..  ..  ..  ...  ...  ...    ...  ...  ...  ...   \n",
      "345  346    Daniel Sprong  63  14   9   23   10  -16  11:57    2    3    5   \n",
      "346  347  Derick Brassard  70  14   9   23   39  -19  14:59    2    0    5   \n",
      "347  348       Joel Armia  57  13  10   23   14    0  15:47    2    2    6   \n",
      "348  349   Drake Caggiula  55  12  11   23   28   -5  14:25    0    2    0   \n",
      "349  350       Adam Lowry  78  12  11   23   33    6  14:38    0    3    0   \n",
      "\n",
      "      G/GP   A/GP   P/GP  SHOTS     SH%  HITS  BS  \n",
      "0    0.500  1.061  1.561    246  16.70%    44  31  \n",
      "1    0.526  0.962  1.487    240  17.10%    39  30  \n",
      "2    0.543  0.815  1.358    341  12.90%    21  18  \n",
      "3    0.610  0.671  1.280    231  21.70%    57  26  \n",
      "4    0.456  0.810  1.266    231  15.60%    46  19  \n",
      "..     ...    ...    ...    ...     ...   ...  ..  \n",
      "345  0.222  0.143  0.365    125  11.20%    35  14  \n",
      "346  0.200  0.129  0.329    110  12.70%   102  15  \n",
      "347  0.228  0.175  0.404    134   9.70%   113  21  \n",
      "348  0.218  0.200  0.418     96  12.50%   135  26  \n",
      "349  0.154  0.141  0.295    105  11.40%   223  49  \n",
      "\n",
      "[350 rows x 19 columns]\n"
     ]
    }
   ],
   "source": [
    "import pandas as pd\n",
    "\n",
    "df2 = pd.read_csv('Data301ProjectData2018.csv')\n",
    "print(df2)"
   ]
  },
  {
   "cell_type": "code",
   "execution_count": null,
   "id": "0cfc7528-7742-48d6-a59d-1da3555f8a5d",
   "metadata": {},
   "outputs": [],
   "source": []
  }
 ],
 "metadata": {
  "kernelspec": {
   "display_name": "Python 3 (ipykernel)",
   "language": "python",
   "name": "python3"
  },
  "language_info": {
   "codemirror_mode": {
    "name": "ipython",
    "version": 3
   },
   "file_extension": ".py",
   "mimetype": "text/x-python",
   "name": "python",
   "nbconvert_exporter": "python",
   "pygments_lexer": "ipython3",
   "version": "3.10.8"
  }
 },
 "nbformat": 4,
 "nbformat_minor": 5
}
