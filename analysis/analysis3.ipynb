{
 "cells": [
  {
   "attachments": {},
   "cell_type": "markdown",
   "metadata": {},
   "source": [
    "# Ryan Tschritter"
   ]
  },
  {
   "attachments": {},
   "cell_type": "markdown",
   "metadata": {},
   "source": [
    "## Research question/interests\n",
    "\n",
    "**To find the pearson correlation coefficients for each statistic relative to goals scored in the current/next season.**\n",
    "\n",
    "To find the coefficients I only need to follow the peason correlation coefficient formula and calculate the coefficient. This would mean calculating the means and sums of each statistic and then entering them into the formula.\n",
    "\n",
    "**To find the largest correlation coefficient and plot that statistic against goals scored in the current/next season.**\n",
    "\n",
    "From the results of the question above I would be able to pick the statistic with the highest correlation  and graph that statistic against goals scored in the current and next seasons."
   ]
  },
  {
   "cell_type": "code",
   "execution_count": 3,
   "metadata": {},
   "outputs": [],
   "source": [
    "# Milestone 2 Task 2 - Import the data into a dataframe using pandas\n",
    "import pandas as pd\n",
    "nhl2017 = pd.read_csv('../data/processed/Data301ProjectData2017.csv')\n",
    "nhl2018 = pd.read_csv('../data/processed/Data301ProjectData2018.csv')"
   ]
  }
 ],
 "metadata": {
  "kernelspec": {
   "display_name": "base",
   "language": "python",
   "name": "python3"
  },
  "language_info": {
   "codemirror_mode": {
    "name": "ipython",
    "version": 3
   },
   "file_extension": ".py",
   "mimetype": "text/x-python",
   "name": "python",
   "nbconvert_exporter": "python",
   "pygments_lexer": "ipython3",
   "version": "3.10.8"
  },
  "orig_nbformat": 4,
  "vscode": {
   "interpreter": {
    "hash": "29d671c5dab5352a2322b6accd651219b212a56760e284918d9501bfde01ac4a"
   }
  }
 },
 "nbformat": 4,
 "nbformat_minor": 2
}
