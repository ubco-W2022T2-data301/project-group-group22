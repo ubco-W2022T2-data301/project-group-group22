{
 "cells": [
  {
   "attachments": {},
   "cell_type": "markdown",
   "metadata": {},
   "source": [
    "# Renat Rezyapov"
   ]
  },
  {
   "attachments": {},
   "cell_type": "markdown",
   "metadata": {},
   "source": [
    "## Which player statistics have the largest effect on their position in the ranking based on points?\n",
    "\n",
    "In order to answer this question, the change in ranking between the two consecutive seasons for players will serve as a point of comparisson with statistics in the earlier year. \n",
    "The purpose of the question is to bring attention to which parameters the players can focus on imrproving in order to advance in the ranking based on the number of points in the next season. "
   ]
  }
 ],
 "metadata": {
  "language_info": {
   "name": "plaintext"
  },
  "orig_nbformat": 4
 },
 "nbformat": 4,
 "nbformat_minor": 2
}
