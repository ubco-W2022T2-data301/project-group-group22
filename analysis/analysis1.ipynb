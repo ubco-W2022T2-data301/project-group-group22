{
 "cells": [
  {
   "cell_type": "markdown",
   "metadata": {},
   "source": [
    "# Ricky Doucette"
   ]
  },
  {
   "cell_type": "markdown",
   "metadata": {},
   "source": [
    "## Research question/interests\n",
    "\n",
    "Ricky: I am interested in this dataset because I am a fan of hockey and like to see the statistical aspects of players' performances. I would like to find if there is a correlation between drops and increases in certain statistics for consecutive years for the top NHL players in points. Specific examples of research questions I would like to discover answers to are: Does an increase/decrease in time on ice per game relate to an increase in certain stats like overall points in the season? Do the top players that have a decrease in their offensive stats in a successive season make up for it with an increase in their defensive stats? How many of the top 250 players in points from the 2017-2018 season managed to make the top 350 players in points for the 2018-2019 season? How many of those players didn't make the top 350 just because they retired?\n",
    "\n",
    "To get more specific, the research questions I would primarily like to answer are:\n",
    "1. Does the average change in a top NHL player's offensive stats from one season to the next have a negative correlation with their defensive stats? That is if a player has a decrease in say points, do their stats like +/- and blocked shots tend to increase?\n",
    "2. Does an increase in time on ice per game significantly increase a player's overall statistics? We could define significance as an extra point per additional minute of time on ice per game. So say a player plays 82 games both seasons. If in the first season they score 100 points with 18 minutes of TOI and the following season they score 115 points with 18.5 minutes of TOI, we could deem their increase in ice time as a significant factor in their increase in points. The calculations to determine this would be as follows:"
   ]
  },
  {
   "cell_type": "code",
   "execution_count": 1,
   "metadata": {},
   "outputs": [],
   "source": [
    "import pandas as pd\n",
    "nhl2017 = pd.read_csv('../data/processed/Data301ProjectData2017.csv')\n",
    "nhl2018 = pd.read_csv('../data/processed/Data301ProjectData2018.csv')"
   ]
  },
  {
   "cell_type": "code",
   "execution_count": 1,
   "metadata": {},
   "outputs": [
    {
     "data": {
      "text/plain": [
       "14.76"
      ]
     },
     "execution_count": 1,
     "metadata": {},
     "output_type": "execute_result"
    }
   ],
   "source": [
    "s1 = (82*18)/100\n",
    "s1"
   ]
  },
  {
   "cell_type": "code",
   "execution_count": 3,
   "metadata": {},
   "outputs": [
    {
     "data": {
      "text/plain": [
       "13.191304347826087"
      ]
     },
     "execution_count": 3,
     "metadata": {},
     "output_type": "execute_result"
    }
   ],
   "source": [
    "s2 = (82*18.5)/115\n",
    "s2"
   ]
  },
  {
   "cell_type": "code",
   "execution_count": 4,
   "metadata": {},
   "outputs": [
    {
     "data": {
      "text/plain": [
       "1.568695652173913"
      ]
     },
     "execution_count": 4,
     "metadata": {},
     "output_type": "execute_result"
    }
   ],
   "source": [
    "s1-s2"
   ]
  },
  {
   "cell_type": "markdown",
   "metadata": {},
   "source": [
    "We see here that in this example, the player was getting on average 1 point per 14.76 minutes they played in the first season, then 1 point per 13.19 minutes played in the second season. This is an increase in 1.57 points per minutes played.\n",
    "If this player were to have had their TOI increased to 18.5 from 18, at the same pace of 1 point per 14.76 minutes played, they would have had about 103 points in the following season"
   ]
  },
  {
   "cell_type": "code",
   "execution_count": null,
   "metadata": {},
   "outputs": [],
   "source": []
  }
 ],
 "metadata": {
  "kernelspec": {
   "display_name": "Python 3 (ipykernel)",
   "language": "python",
   "name": "python3"
  },
  "language_info": {
   "codemirror_mode": {
    "name": "ipython",
    "version": 3
   },
   "file_extension": ".py",
   "mimetype": "text/x-python",
   "name": "python",
   "nbconvert_exporter": "python",
   "pygments_lexer": "ipython3",
   "version": "3.10.9"
  }
 },
 "nbformat": 4,
 "nbformat_minor": 4
}
